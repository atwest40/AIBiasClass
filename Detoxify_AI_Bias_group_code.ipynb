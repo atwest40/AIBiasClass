{
  "nbformat": 4,
  "nbformat_minor": 0,
  "metadata": {
    "colab": {
      "provenance": [],
      "gpuType": "T4",
      "include_colab_link": true
    },
    "kernelspec": {
      "name": "python3",
      "display_name": "Python 3"
    },
    "language_info": {
      "name": "python"
    },
    "accelerator": "GPU"
  },
  "cells": [
    {
      "cell_type": "markdown",
      "metadata": {
        "id": "view-in-github",
        "colab_type": "text"
      },
      "source": [
        "<a href=\"https://colab.research.google.com/github/atwest40/AIBiasClass/blob/master/Detoxify_AI_Bias_group_code.ipynb\" target=\"_parent\"><img src=\"https://colab.research.google.com/assets/colab-badge.svg\" alt=\"Open In Colab\"/></a>"
      ]
    },
    {
      "cell_type": "code",
      "source": [
        "#Run me with T4 enabled\n",
        "\n",
        "\n",
        "#@misc{Detoxify,\n",
        "#  title={Detoxify},\n",
        "#  author={Hanu, Laura and {Unitary team}},\n",
        "#  howpublished={Github. https://github.com/unitaryai/detoxify},\n",
        "#  year={2020}\n",
        "#}"
      ],
      "metadata": {
        "id": "DvnxrJg3Govt"
      },
      "execution_count": 2,
      "outputs": []
    },
    {
      "cell_type": "code",
      "execution_count": 2,
      "metadata": {
        "colab": {
          "base_uri": "https://localhost:8080/"
        },
        "id": "1N19QwF2Lckn",
        "outputId": "9d65698b-5598-46f1-be59-620432e24179"
      },
      "outputs": [
        {
          "output_type": "stream",
          "name": "stdout",
          "text": [
            "Requirement already satisfied: detoxify in /usr/local/lib/python3.11/dist-packages (0.5.2)\n",
            "Requirement already satisfied: transformers in /usr/local/lib/python3.11/dist-packages (from detoxify) (4.51.3)\n",
            "Requirement already satisfied: torch>=1.7.0 in /usr/local/lib/python3.11/dist-packages (from detoxify) (2.6.0+cu124)\n",
            "Requirement already satisfied: sentencepiece>=0.1.94 in /usr/local/lib/python3.11/dist-packages (from detoxify) (0.2.0)\n",
            "Requirement already satisfied: filelock in /usr/local/lib/python3.11/dist-packages (from torch>=1.7.0->detoxify) (3.18.0)\n",
            "Requirement already satisfied: typing-extensions>=4.10.0 in /usr/local/lib/python3.11/dist-packages (from torch>=1.7.0->detoxify) (4.13.2)\n",
            "Requirement already satisfied: networkx in /usr/local/lib/python3.11/dist-packages (from torch>=1.7.0->detoxify) (3.4.2)\n",
            "Requirement already satisfied: jinja2 in /usr/local/lib/python3.11/dist-packages (from torch>=1.7.0->detoxify) (3.1.6)\n",
            "Requirement already satisfied: fsspec in /usr/local/lib/python3.11/dist-packages (from torch>=1.7.0->detoxify) (2025.3.2)\n",
            "Requirement already satisfied: nvidia-cuda-nvrtc-cu12==12.4.127 in /usr/local/lib/python3.11/dist-packages (from torch>=1.7.0->detoxify) (12.4.127)\n",
            "Requirement already satisfied: nvidia-cuda-runtime-cu12==12.4.127 in /usr/local/lib/python3.11/dist-packages (from torch>=1.7.0->detoxify) (12.4.127)\n",
            "Requirement already satisfied: nvidia-cuda-cupti-cu12==12.4.127 in /usr/local/lib/python3.11/dist-packages (from torch>=1.7.0->detoxify) (12.4.127)\n",
            "Requirement already satisfied: nvidia-cudnn-cu12==9.1.0.70 in /usr/local/lib/python3.11/dist-packages (from torch>=1.7.0->detoxify) (9.1.0.70)\n",
            "Requirement already satisfied: nvidia-cublas-cu12==12.4.5.8 in /usr/local/lib/python3.11/dist-packages (from torch>=1.7.0->detoxify) (12.4.5.8)\n",
            "Requirement already satisfied: nvidia-cufft-cu12==11.2.1.3 in /usr/local/lib/python3.11/dist-packages (from torch>=1.7.0->detoxify) (11.2.1.3)\n",
            "Requirement already satisfied: nvidia-curand-cu12==10.3.5.147 in /usr/local/lib/python3.11/dist-packages (from torch>=1.7.0->detoxify) (10.3.5.147)\n",
            "Requirement already satisfied: nvidia-cusolver-cu12==11.6.1.9 in /usr/local/lib/python3.11/dist-packages (from torch>=1.7.0->detoxify) (11.6.1.9)\n",
            "Requirement already satisfied: nvidia-cusparse-cu12==12.3.1.170 in /usr/local/lib/python3.11/dist-packages (from torch>=1.7.0->detoxify) (12.3.1.170)\n",
            "Requirement already satisfied: nvidia-cusparselt-cu12==0.6.2 in /usr/local/lib/python3.11/dist-packages (from torch>=1.7.0->detoxify) (0.6.2)\n",
            "Requirement already satisfied: nvidia-nccl-cu12==2.21.5 in /usr/local/lib/python3.11/dist-packages (from torch>=1.7.0->detoxify) (2.21.5)\n",
            "Requirement already satisfied: nvidia-nvtx-cu12==12.4.127 in /usr/local/lib/python3.11/dist-packages (from torch>=1.7.0->detoxify) (12.4.127)\n",
            "Requirement already satisfied: nvidia-nvjitlink-cu12==12.4.127 in /usr/local/lib/python3.11/dist-packages (from torch>=1.7.0->detoxify) (12.4.127)\n",
            "Requirement already satisfied: triton==3.2.0 in /usr/local/lib/python3.11/dist-packages (from torch>=1.7.0->detoxify) (3.2.0)\n",
            "Requirement already satisfied: sympy==1.13.1 in /usr/local/lib/python3.11/dist-packages (from torch>=1.7.0->detoxify) (1.13.1)\n",
            "Requirement already satisfied: mpmath<1.4,>=1.1.0 in /usr/local/lib/python3.11/dist-packages (from sympy==1.13.1->torch>=1.7.0->detoxify) (1.3.0)\n",
            "Requirement already satisfied: huggingface-hub<1.0,>=0.30.0 in /usr/local/lib/python3.11/dist-packages (from transformers->detoxify) (0.30.2)\n",
            "Requirement already satisfied: numpy>=1.17 in /usr/local/lib/python3.11/dist-packages (from transformers->detoxify) (2.0.2)\n",
            "Requirement already satisfied: packaging>=20.0 in /usr/local/lib/python3.11/dist-packages (from transformers->detoxify) (24.2)\n",
            "Requirement already satisfied: pyyaml>=5.1 in /usr/local/lib/python3.11/dist-packages (from transformers->detoxify) (6.0.2)\n",
            "Requirement already satisfied: regex!=2019.12.17 in /usr/local/lib/python3.11/dist-packages (from transformers->detoxify) (2024.11.6)\n",
            "Requirement already satisfied: requests in /usr/local/lib/python3.11/dist-packages (from transformers->detoxify) (2.32.3)\n",
            "Requirement already satisfied: tokenizers<0.22,>=0.21 in /usr/local/lib/python3.11/dist-packages (from transformers->detoxify) (0.21.1)\n",
            "Requirement already satisfied: safetensors>=0.4.3 in /usr/local/lib/python3.11/dist-packages (from transformers->detoxify) (0.5.3)\n",
            "Requirement already satisfied: tqdm>=4.27 in /usr/local/lib/python3.11/dist-packages (from transformers->detoxify) (4.67.1)\n",
            "Requirement already satisfied: MarkupSafe>=2.0 in /usr/local/lib/python3.11/dist-packages (from jinja2->torch>=1.7.0->detoxify) (3.0.2)\n",
            "Requirement already satisfied: charset-normalizer<4,>=2 in /usr/local/lib/python3.11/dist-packages (from requests->transformers->detoxify) (3.4.1)\n",
            "Requirement already satisfied: idna<4,>=2.5 in /usr/local/lib/python3.11/dist-packages (from requests->transformers->detoxify) (3.10)\n",
            "Requirement already satisfied: urllib3<3,>=1.21.1 in /usr/local/lib/python3.11/dist-packages (from requests->transformers->detoxify) (2.4.0)\n",
            "Requirement already satisfied: certifi>=2017.4.17 in /usr/local/lib/python3.11/dist-packages (from requests->transformers->detoxify) (2025.1.31)\n"
          ]
        }
      ],
      "source": [
        "!pip install detoxify\n",
        "import pandas as pd\n",
        "from detoxify import Detoxify\n",
        "import csv"
      ]
    },
    {
      "cell_type": "code",
      "source": [
        "# USE ME - COMPLETE CODE FOR CREATING TOXICITY RESULTS\n",
        "\n",
        "# upload CSV with title headers and columns\n",
        "df1 = pd.read_csv('input_table.csv', encoding='latin-1', header=[0,1], index_col=[0, 1])\n",
        "#display(df1)\n",
        "\n",
        "# iterate through and create prompts\n",
        "prompts = df1.values.flatten()\n",
        "#Filter out NaN values\n",
        "prompts = [prompt for prompt in prompts if pd.notna(prompt)]\n",
        "#print(list(prompts))\n",
        "\n",
        "# For each prompt in df1, replace with score from Detoxify\n",
        "# Run Detoxify on the prompts\n",
        "results = Detoxify('original').predict(prompts)\n",
        "\n",
        "# Create a DataFrame from the results\n",
        "results_df = pd.DataFrame(results)\n",
        "\n",
        "# Replace the text with the toxicity values in the original DataFrame\n",
        "#We need to iterate through the original dataframe and replace values\n",
        "k = 0\n",
        "for i in df1.index:\n",
        "    for j in df1.columns:\n",
        "        if pd.notna(df1.loc[i,j]):\n",
        "            df1.loc[i,j] = results_df.iloc[k]['toxicity']\n",
        "            k += 1\n",
        "\n",
        "#display(df1)\n",
        "\n",
        "# save detailed results to CSV as vertical list:\n",
        "#results_df.to_csv('results-detailed.csv')\n",
        "\n",
        "# save regulat results as CSV:\n",
        "df1.to_csv('results1.csv')\n"
      ],
      "metadata": {
        "id": "pgTg86fvMmTX"
      },
      "execution_count": 45,
      "outputs": []
    },
    {
      "cell_type": "code",
      "source": [
        "#EXAMPLES FROM WEBSITE - NOT NEEDED\n",
        "\n",
        "# each model takes in either a string or a list of strings\n",
        "\n",
        "results = Detoxify('original').predict('example text')\n",
        "\n",
        "results = Detoxify('unbiased').predict(['example text 1','example text 2'])\n",
        "\n",
        "results = Detoxify('multilingual').predict(['example text','exemple de texte','texto de ejemplo','testo di esempio','texto de exemplo','örnek metin','пример текста'])\n",
        "\n",
        "# to specify the device the model will be allocated on (defaults to cpu), accepts any torch.device input\n",
        "\n",
        "model = Detoxify('original', device='cuda')\n",
        "\n",
        "# basic usage:\n",
        "model = Detoxify('original')\n",
        "results = model.predict(\"I think we're all idiots\")\n",
        "print(results)"
      ],
      "metadata": {
        "id": "BgKnna4EGfKJ"
      },
      "execution_count": null,
      "outputs": []
    },
    {
      "cell_type": "code",
      "source": [
        "# SIMPLE METHOD WITH ONLY 1 COLUMN - NOT USED NOW\n",
        "# import list as CSV - skips header. first column is category of comment. second column is comment.\n",
        "\n",
        "with open('test_list.csv', newline='') as f:\n",
        "    reader = csv.reader(f)\n",
        "    next(reader) #skip header\n",
        "    data = list(reader)\n",
        "\n",
        "# Separate categories and comments\n",
        "categories = [row[0] for row in data]\n",
        "comments = [row[1] for row in data]\n",
        "\n",
        "# Run Detoxify on the comments\n",
        "results = Detoxify('original').predict(comments)\n",
        "\n",
        "# Create a DataFrame from the results\n",
        "results_df = pd.DataFrame(results)\n",
        "\n",
        "# Add categories and comments as columns\n",
        "results_df.insert(0, 'Category', categories)\n",
        "results_df.insert(1, 'Comment', comments)\n",
        "\n",
        "# Round for display\n",
        "print(results_df.round(5))\n",
        "\n",
        "#save results as CSV:\n",
        "results_df.to_csv('results1.csv')"
      ],
      "metadata": {
        "colab": {
          "base_uri": "https://localhost:8080/",
          "height": 216
        },
        "id": "kCMRM0EpLr_O",
        "outputId": "3c49db93-6ca8-4ef1-9693-dbc8975376d7"
      },
      "execution_count": 44,
      "outputs": [
        {
          "output_type": "error",
          "ename": "FileNotFoundError",
          "evalue": "[Errno 2] No such file or directory: 'test_list.csv'",
          "traceback": [
            "\u001b[0;31m---------------------------------------------------------------------------\u001b[0m",
            "\u001b[0;31mFileNotFoundError\u001b[0m                         Traceback (most recent call last)",
            "\u001b[0;32m<ipython-input-44-5c888bd7856a>\u001b[0m in \u001b[0;36m<cell line: 0>\u001b[0;34m()\u001b[0m\n\u001b[1;32m      1\u001b[0m \u001b[0;31m# import list as CSV - skips header. first column is category of comment. second column is comment.\u001b[0m\u001b[0;34m\u001b[0m\u001b[0;34m\u001b[0m\u001b[0m\n\u001b[1;32m      2\u001b[0m \u001b[0;34m\u001b[0m\u001b[0m\n\u001b[0;32m----> 3\u001b[0;31m \u001b[0;32mwith\u001b[0m \u001b[0mopen\u001b[0m\u001b[0;34m(\u001b[0m\u001b[0;34m'test_list.csv'\u001b[0m\u001b[0;34m,\u001b[0m \u001b[0mnewline\u001b[0m\u001b[0;34m=\u001b[0m\u001b[0;34m''\u001b[0m\u001b[0;34m)\u001b[0m \u001b[0;32mas\u001b[0m \u001b[0mf\u001b[0m\u001b[0;34m:\u001b[0m\u001b[0;34m\u001b[0m\u001b[0;34m\u001b[0m\u001b[0m\n\u001b[0m\u001b[1;32m      4\u001b[0m     \u001b[0mreader\u001b[0m \u001b[0;34m=\u001b[0m \u001b[0mcsv\u001b[0m\u001b[0;34m.\u001b[0m\u001b[0mreader\u001b[0m\u001b[0;34m(\u001b[0m\u001b[0mf\u001b[0m\u001b[0;34m)\u001b[0m\u001b[0;34m\u001b[0m\u001b[0;34m\u001b[0m\u001b[0m\n\u001b[1;32m      5\u001b[0m     \u001b[0mnext\u001b[0m\u001b[0;34m(\u001b[0m\u001b[0mreader\u001b[0m\u001b[0;34m)\u001b[0m \u001b[0;31m#skip header\u001b[0m\u001b[0;34m\u001b[0m\u001b[0;34m\u001b[0m\u001b[0m\n",
            "\u001b[0;31mFileNotFoundError\u001b[0m: [Errno 2] No such file or directory: 'test_list.csv'"
          ]
        }
      ]
    }
  ]
}